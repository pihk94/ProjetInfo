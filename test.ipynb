{
 "nbformat": 4,
 "nbformat_minor": 2,
 "metadata": {
  "language_info": {
   "name": "python",
   "codemirror_mode": {
    "name": "ipython",
    "version": 3
   },
   "version": "3.7.7-final"
  },
  "orig_nbformat": 2,
  "file_extension": ".py",
  "mimetype": "text/x-python",
  "name": "python",
  "npconvert_exporter": "python",
  "pygments_lexer": "ipython3",
  "version": 3,
  "kernelspec": {
   "name": "python37764bitinfoconda85a8492b25bc40ea943d38d4fa49ccdb",
   "display_name": "Python 3.7.7 64-bit ('info': conda)"
  }
 },
 "cells": [
  {
   "cell_type": "code",
   "execution_count": 5,
   "metadata": {},
   "outputs": [],
   "source": [
    "import pandas as pd\n",
    "import datetime"
   ]
  },
  {
   "cell_type": "code",
   "execution_count": 17,
   "metadata": {},
   "outputs": [],
   "source": [
    "df= pd.read_csv('Data/ETHBTC.csv')\n",
    "df.time = pd.to_datetime(df.time)\n",
    "dt_range = pd.date_range(start=datetime.datetime(2017,8,1,0,0),end=datetime.datetime(2020,4,10,0,0),freq='30min')\n",
    "dt_range = pd.DataFrame(dt_range,columns=[\"time\"])\n",
    "test = pd.merge(dt_range,df,how=\"left\",on=\"time\")\n",
    "test = test.fillna(method=\"ffill\")\n"
   ]
  }
 ]
}